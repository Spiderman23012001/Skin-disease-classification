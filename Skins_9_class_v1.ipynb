{
  "nbformat": 4,
  "nbformat_minor": 0,
  "metadata": {
    "colab": {
      "provenance": [],
      "gpuType": "T4"
    },
    "kernelspec": {
      "name": "python3",
      "display_name": "Python 3"
    },
    "language_info": {
      "name": "python"
    },
    "accelerator": "GPU"
  },
  "cells": [
    {
      "cell_type": "markdown",
      "source": [
        "# Install Data"
      ],
      "metadata": {
        "id": "mexE84tAGCKE"
      }
    },
    {
      "cell_type": "code",
      "execution_count": 88,
      "metadata": {
        "id": "dnCxC-1XQSQF"
      },
      "outputs": [],
      "source": [
        "# !rm -rf /content/Forehead_Filted.zip\n",
        "# !rm -rf /content/Forehead_Filted\n",
        "# !gdown -q 1VqbIYbwpcyitFDH3OJ_mgzyA-tKUZ-ks\n",
        "# !unzip -q /content/Forehead_Filted.zip\n"
      ]
    },
    {
      "cell_type": "markdown",
      "source": [
        "# Install Library"
      ],
      "metadata": {
        "id": "s1iE480lFpcM"
      }
    },
    {
      "cell_type": "code",
      "source": [
        "import torch\n",
        "import torch.nn as nn\n",
        "import torchvision\n",
        "from torchvision import datasets, transforms, models\n",
        "import numpy as np\n",
        "import matplotlib.pyplot as plt\n",
        "import sys, os\n",
        "from datetime import datetime\n",
        "from glob import glob\n",
        "import imageio\n",
        "from tempfile import TemporaryDirectory\n",
        "# cudnn.benchmark = True\n",
        "plt.ion()   # interactive mode"
      ],
      "metadata": {
        "colab": {
          "base_uri": "https://localhost:8080/"
        },
        "id": "WaBkjDKTE45Z",
        "outputId": "b0bb6dcc-a782-48b7-8282-9184cfa3c838"
      },
      "execution_count": 89,
      "outputs": [
        {
          "output_type": "execute_result",
          "data": {
            "text/plain": [
              "<contextlib.ExitStack at 0x7b1252c34d30>"
            ]
          },
          "metadata": {},
          "execution_count": 89
        }
      ]
    },
    {
      "cell_type": "markdown",
      "source": [
        "# Preprocessing"
      ],
      "metadata": {
        "id": "IqHnJUKeGITf"
      }
    },
    {
      "cell_type": "code",
      "source": [
        "train_transform = transforms.Compose([\n",
        "    transforms.Resize((224, 224)),\n",
        "    transforms.RandomHorizontalFlip(),\n",
        "    transforms.RandomRotation(5),\n",
        "    transforms.ToTensor(),\n",
        "    transforms.Normalize([0.485, 0.456, 0.406], [0.229, 0.224, 0.225])\n",
        "])\n",
        "\n",
        "test_transform = transforms.Compose([\n",
        "    transforms.Resize((224, 224)),\n",
        "    transforms.ToTensor(),\n",
        "    transforms.Normalize([0.485, 0.456,0.406],[0.229,0.224,0.225])\n",
        "])"
      ],
      "metadata": {
        "id": "yLuSZccKGfaN"
      },
      "execution_count": 90,
      "outputs": []
    },
    {
      "cell_type": "code",
      "source": [
        "batch_size = 64\n",
        "train_dataset = datasets.ImageFolder(\n",
        "    '/content/Forehead_Filted/train',\n",
        "    transform = train_transform\n",
        ")\n",
        "test_dataset = datasets.ImageFolder(\n",
        "    '/content/Forehead_Filted/val',\n",
        "    transform = test_transform\n",
        ")"
      ],
      "metadata": {
        "id": "XKuY1KjCGs4k"
      },
      "execution_count": 91,
      "outputs": []
    },
    {
      "cell_type": "code",
      "source": [
        "train_loader = torch.utils.data.DataLoader(\n",
        "    train_dataset,\n",
        "    batch_size = batch_size,\n",
        "    shuffle =True\n",
        ")\n",
        "\n",
        "test_loader = torch.utils.data.DataLoader(\n",
        "    test_dataset,\n",
        "    batch_size = batch_size,\n",
        "    shuffle =False\n",
        ")"
      ],
      "metadata": {
        "id": "VYNZKmOsNCak"
      },
      "execution_count": 92,
      "outputs": []
    },
    {
      "cell_type": "code",
      "source": [
        "# Class torchvision.datasets.ImageFolder\n",
        "if hasattr(train_dataset, 'classes'):\n",
        "    print(\"Class labels:\", train_dataset.classes)\n",
        "else:\n",
        "    print(\"Class labels not found.\")\n",
        "\n",
        "if hasattr(test_dataset, 'classes'):\n",
        "    print(\"Class labels:\", test_dataset.classes)\n",
        "else:\n",
        "    print(\"Class labels not found.\")\n"
      ],
      "metadata": {
        "colab": {
          "base_uri": "https://localhost:8080/"
        },
        "id": "s9Z2bcj-cumZ",
        "outputId": "b596144e-8988-40e7-e15b-ed77158e2085"
      },
      "execution_count": 93,
      "outputs": [
        {
          "output_type": "stream",
          "name": "stdout",
          "text": [
            "Class labels: ['cAverage', 'cFair', 'cGood']\n",
            "Class labels: ['cAverage', 'cFair', 'cGood']\n"
          ]
        }
      ]
    },
    {
      "cell_type": "code",
      "source": [
        "model = models.mobilenet_v2(pretrained=True)"
      ],
      "metadata": {
        "id": "3LpT1uJgOn1_"
      },
      "execution_count": 94,
      "outputs": []
    },
    {
      "cell_type": "markdown",
      "source": [
        "## In ra kiến trức model mobilev2"
      ],
      "metadata": {
        "id": "oOJ9kH99OyTr"
      }
    },
    {
      "cell_type": "code",
      "source": [
        "# print(model)"
      ],
      "metadata": {
        "id": "p8Omkv24O2FW"
      },
      "execution_count": 95,
      "outputs": []
    },
    {
      "cell_type": "code",
      "source": [
        "# lớp phân loại của mobilenetv2\n",
        "model.classifier"
      ],
      "metadata": {
        "colab": {
          "base_uri": "https://localhost:8080/"
        },
        "id": "B8fypXHbPOa0",
        "outputId": "6a1583c9-113d-440f-f155-e2a492c3b4bf"
      },
      "execution_count": 96,
      "outputs": [
        {
          "output_type": "execute_result",
          "data": {
            "text/plain": [
              "Sequential(\n",
              "  (0): Dropout(p=0.2, inplace=False)\n",
              "  (1): Linear(in_features=1280, out_features=1000, bias=True)\n",
              ")"
            ]
          },
          "metadata": {},
          "execution_count": 96
        }
      ]
    },
    {
      "cell_type": "code",
      "source": [
        "n_class = 3\n",
        "num_ftrs = model.classifier[1].in_features\n",
        "model.classifier = nn.Sequential(\n",
        "    nn.Linear(num_ftrs,num_ftrs),\n",
        "    nn.Dropout(0.3),\n",
        "    nn.Linear(num_ftrs,num_ftrs),\n",
        "    nn.Dropout(0.4),\n",
        "    nn.Linear(num_ftrs,num_ftrs),\n",
        "    nn.Dropout(0.7),\n",
        "    nn.Linear(num_ftrs,n_class)\n",
        ")"
      ],
      "metadata": {
        "id": "owL3kJ48PZ5a"
      },
      "execution_count": 97,
      "outputs": []
    },
    {
      "cell_type": "code",
      "source": [
        "# lớp phân loại sau khi sửa và thêm các lớp cuối\n",
        "model.classifier"
      ],
      "metadata": {
        "colab": {
          "base_uri": "https://localhost:8080/"
        },
        "id": "Z3tuY7ZWQu11",
        "outputId": "8667ca28-b1c6-4b2f-8c81-7a513899b10e"
      },
      "execution_count": 98,
      "outputs": [
        {
          "output_type": "execute_result",
          "data": {
            "text/plain": [
              "Sequential(\n",
              "  (0): Linear(in_features=1280, out_features=1280, bias=True)\n",
              "  (1): Dropout(p=0.3, inplace=False)\n",
              "  (2): Linear(in_features=1280, out_features=1280, bias=True)\n",
              "  (3): Dropout(p=0.4, inplace=False)\n",
              "  (4): Linear(in_features=1280, out_features=1280, bias=True)\n",
              "  (5): Dropout(p=0.7, inplace=False)\n",
              "  (6): Linear(in_features=1280, out_features=3, bias=True)\n",
              ")"
            ]
          },
          "metadata": {},
          "execution_count": 98
        }
      ]
    },
    {
      "cell_type": "code",
      "source": [
        "device = torch.device(\"cuda:0\" if torch.cuda.is_available() else \"cpu\")\n",
        "# print(device)\n",
        "model.to(device)"
      ],
      "metadata": {
        "colab": {
          "base_uri": "https://localhost:8080/"
        },
        "id": "nU3QmbWTQwH9",
        "outputId": "f4d39cdc-563e-4ed4-be32-f26fc6425550"
      },
      "execution_count": 99,
      "outputs": [
        {
          "output_type": "execute_result",
          "data": {
            "text/plain": [
              "MobileNetV2(\n",
              "  (features): Sequential(\n",
              "    (0): Conv2dNormActivation(\n",
              "      (0): Conv2d(3, 32, kernel_size=(3, 3), stride=(2, 2), padding=(1, 1), bias=False)\n",
              "      (1): BatchNorm2d(32, eps=1e-05, momentum=0.1, affine=True, track_running_stats=True)\n",
              "      (2): ReLU6(inplace=True)\n",
              "    )\n",
              "    (1): InvertedResidual(\n",
              "      (conv): Sequential(\n",
              "        (0): Conv2dNormActivation(\n",
              "          (0): Conv2d(32, 32, kernel_size=(3, 3), stride=(1, 1), padding=(1, 1), groups=32, bias=False)\n",
              "          (1): BatchNorm2d(32, eps=1e-05, momentum=0.1, affine=True, track_running_stats=True)\n",
              "          (2): ReLU6(inplace=True)\n",
              "        )\n",
              "        (1): Conv2d(32, 16, kernel_size=(1, 1), stride=(1, 1), bias=False)\n",
              "        (2): BatchNorm2d(16, eps=1e-05, momentum=0.1, affine=True, track_running_stats=True)\n",
              "      )\n",
              "    )\n",
              "    (2): InvertedResidual(\n",
              "      (conv): Sequential(\n",
              "        (0): Conv2dNormActivation(\n",
              "          (0): Conv2d(16, 96, kernel_size=(1, 1), stride=(1, 1), bias=False)\n",
              "          (1): BatchNorm2d(96, eps=1e-05, momentum=0.1, affine=True, track_running_stats=True)\n",
              "          (2): ReLU6(inplace=True)\n",
              "        )\n",
              "        (1): Conv2dNormActivation(\n",
              "          (0): Conv2d(96, 96, kernel_size=(3, 3), stride=(2, 2), padding=(1, 1), groups=96, bias=False)\n",
              "          (1): BatchNorm2d(96, eps=1e-05, momentum=0.1, affine=True, track_running_stats=True)\n",
              "          (2): ReLU6(inplace=True)\n",
              "        )\n",
              "        (2): Conv2d(96, 24, kernel_size=(1, 1), stride=(1, 1), bias=False)\n",
              "        (3): BatchNorm2d(24, eps=1e-05, momentum=0.1, affine=True, track_running_stats=True)\n",
              "      )\n",
              "    )\n",
              "    (3): InvertedResidual(\n",
              "      (conv): Sequential(\n",
              "        (0): Conv2dNormActivation(\n",
              "          (0): Conv2d(24, 144, kernel_size=(1, 1), stride=(1, 1), bias=False)\n",
              "          (1): BatchNorm2d(144, eps=1e-05, momentum=0.1, affine=True, track_running_stats=True)\n",
              "          (2): ReLU6(inplace=True)\n",
              "        )\n",
              "        (1): Conv2dNormActivation(\n",
              "          (0): Conv2d(144, 144, kernel_size=(3, 3), stride=(1, 1), padding=(1, 1), groups=144, bias=False)\n",
              "          (1): BatchNorm2d(144, eps=1e-05, momentum=0.1, affine=True, track_running_stats=True)\n",
              "          (2): ReLU6(inplace=True)\n",
              "        )\n",
              "        (2): Conv2d(144, 24, kernel_size=(1, 1), stride=(1, 1), bias=False)\n",
              "        (3): BatchNorm2d(24, eps=1e-05, momentum=0.1, affine=True, track_running_stats=True)\n",
              "      )\n",
              "    )\n",
              "    (4): InvertedResidual(\n",
              "      (conv): Sequential(\n",
              "        (0): Conv2dNormActivation(\n",
              "          (0): Conv2d(24, 144, kernel_size=(1, 1), stride=(1, 1), bias=False)\n",
              "          (1): BatchNorm2d(144, eps=1e-05, momentum=0.1, affine=True, track_running_stats=True)\n",
              "          (2): ReLU6(inplace=True)\n",
              "        )\n",
              "        (1): Conv2dNormActivation(\n",
              "          (0): Conv2d(144, 144, kernel_size=(3, 3), stride=(2, 2), padding=(1, 1), groups=144, bias=False)\n",
              "          (1): BatchNorm2d(144, eps=1e-05, momentum=0.1, affine=True, track_running_stats=True)\n",
              "          (2): ReLU6(inplace=True)\n",
              "        )\n",
              "        (2): Conv2d(144, 32, kernel_size=(1, 1), stride=(1, 1), bias=False)\n",
              "        (3): BatchNorm2d(32, eps=1e-05, momentum=0.1, affine=True, track_running_stats=True)\n",
              "      )\n",
              "    )\n",
              "    (5): InvertedResidual(\n",
              "      (conv): Sequential(\n",
              "        (0): Conv2dNormActivation(\n",
              "          (0): Conv2d(32, 192, kernel_size=(1, 1), stride=(1, 1), bias=False)\n",
              "          (1): BatchNorm2d(192, eps=1e-05, momentum=0.1, affine=True, track_running_stats=True)\n",
              "          (2): ReLU6(inplace=True)\n",
              "        )\n",
              "        (1): Conv2dNormActivation(\n",
              "          (0): Conv2d(192, 192, kernel_size=(3, 3), stride=(1, 1), padding=(1, 1), groups=192, bias=False)\n",
              "          (1): BatchNorm2d(192, eps=1e-05, momentum=0.1, affine=True, track_running_stats=True)\n",
              "          (2): ReLU6(inplace=True)\n",
              "        )\n",
              "        (2): Conv2d(192, 32, kernel_size=(1, 1), stride=(1, 1), bias=False)\n",
              "        (3): BatchNorm2d(32, eps=1e-05, momentum=0.1, affine=True, track_running_stats=True)\n",
              "      )\n",
              "    )\n",
              "    (6): InvertedResidual(\n",
              "      (conv): Sequential(\n",
              "        (0): Conv2dNormActivation(\n",
              "          (0): Conv2d(32, 192, kernel_size=(1, 1), stride=(1, 1), bias=False)\n",
              "          (1): BatchNorm2d(192, eps=1e-05, momentum=0.1, affine=True, track_running_stats=True)\n",
              "          (2): ReLU6(inplace=True)\n",
              "        )\n",
              "        (1): Conv2dNormActivation(\n",
              "          (0): Conv2d(192, 192, kernel_size=(3, 3), stride=(1, 1), padding=(1, 1), groups=192, bias=False)\n",
              "          (1): BatchNorm2d(192, eps=1e-05, momentum=0.1, affine=True, track_running_stats=True)\n",
              "          (2): ReLU6(inplace=True)\n",
              "        )\n",
              "        (2): Conv2d(192, 32, kernel_size=(1, 1), stride=(1, 1), bias=False)\n",
              "        (3): BatchNorm2d(32, eps=1e-05, momentum=0.1, affine=True, track_running_stats=True)\n",
              "      )\n",
              "    )\n",
              "    (7): InvertedResidual(\n",
              "      (conv): Sequential(\n",
              "        (0): Conv2dNormActivation(\n",
              "          (0): Conv2d(32, 192, kernel_size=(1, 1), stride=(1, 1), bias=False)\n",
              "          (1): BatchNorm2d(192, eps=1e-05, momentum=0.1, affine=True, track_running_stats=True)\n",
              "          (2): ReLU6(inplace=True)\n",
              "        )\n",
              "        (1): Conv2dNormActivation(\n",
              "          (0): Conv2d(192, 192, kernel_size=(3, 3), stride=(2, 2), padding=(1, 1), groups=192, bias=False)\n",
              "          (1): BatchNorm2d(192, eps=1e-05, momentum=0.1, affine=True, track_running_stats=True)\n",
              "          (2): ReLU6(inplace=True)\n",
              "        )\n",
              "        (2): Conv2d(192, 64, kernel_size=(1, 1), stride=(1, 1), bias=False)\n",
              "        (3): BatchNorm2d(64, eps=1e-05, momentum=0.1, affine=True, track_running_stats=True)\n",
              "      )\n",
              "    )\n",
              "    (8): InvertedResidual(\n",
              "      (conv): Sequential(\n",
              "        (0): Conv2dNormActivation(\n",
              "          (0): Conv2d(64, 384, kernel_size=(1, 1), stride=(1, 1), bias=False)\n",
              "          (1): BatchNorm2d(384, eps=1e-05, momentum=0.1, affine=True, track_running_stats=True)\n",
              "          (2): ReLU6(inplace=True)\n",
              "        )\n",
              "        (1): Conv2dNormActivation(\n",
              "          (0): Conv2d(384, 384, kernel_size=(3, 3), stride=(1, 1), padding=(1, 1), groups=384, bias=False)\n",
              "          (1): BatchNorm2d(384, eps=1e-05, momentum=0.1, affine=True, track_running_stats=True)\n",
              "          (2): ReLU6(inplace=True)\n",
              "        )\n",
              "        (2): Conv2d(384, 64, kernel_size=(1, 1), stride=(1, 1), bias=False)\n",
              "        (3): BatchNorm2d(64, eps=1e-05, momentum=0.1, affine=True, track_running_stats=True)\n",
              "      )\n",
              "    )\n",
              "    (9): InvertedResidual(\n",
              "      (conv): Sequential(\n",
              "        (0): Conv2dNormActivation(\n",
              "          (0): Conv2d(64, 384, kernel_size=(1, 1), stride=(1, 1), bias=False)\n",
              "          (1): BatchNorm2d(384, eps=1e-05, momentum=0.1, affine=True, track_running_stats=True)\n",
              "          (2): ReLU6(inplace=True)\n",
              "        )\n",
              "        (1): Conv2dNormActivation(\n",
              "          (0): Conv2d(384, 384, kernel_size=(3, 3), stride=(1, 1), padding=(1, 1), groups=384, bias=False)\n",
              "          (1): BatchNorm2d(384, eps=1e-05, momentum=0.1, affine=True, track_running_stats=True)\n",
              "          (2): ReLU6(inplace=True)\n",
              "        )\n",
              "        (2): Conv2d(384, 64, kernel_size=(1, 1), stride=(1, 1), bias=False)\n",
              "        (3): BatchNorm2d(64, eps=1e-05, momentum=0.1, affine=True, track_running_stats=True)\n",
              "      )\n",
              "    )\n",
              "    (10): InvertedResidual(\n",
              "      (conv): Sequential(\n",
              "        (0): Conv2dNormActivation(\n",
              "          (0): Conv2d(64, 384, kernel_size=(1, 1), stride=(1, 1), bias=False)\n",
              "          (1): BatchNorm2d(384, eps=1e-05, momentum=0.1, affine=True, track_running_stats=True)\n",
              "          (2): ReLU6(inplace=True)\n",
              "        )\n",
              "        (1): Conv2dNormActivation(\n",
              "          (0): Conv2d(384, 384, kernel_size=(3, 3), stride=(1, 1), padding=(1, 1), groups=384, bias=False)\n",
              "          (1): BatchNorm2d(384, eps=1e-05, momentum=0.1, affine=True, track_running_stats=True)\n",
              "          (2): ReLU6(inplace=True)\n",
              "        )\n",
              "        (2): Conv2d(384, 64, kernel_size=(1, 1), stride=(1, 1), bias=False)\n",
              "        (3): BatchNorm2d(64, eps=1e-05, momentum=0.1, affine=True, track_running_stats=True)\n",
              "      )\n",
              "    )\n",
              "    (11): InvertedResidual(\n",
              "      (conv): Sequential(\n",
              "        (0): Conv2dNormActivation(\n",
              "          (0): Conv2d(64, 384, kernel_size=(1, 1), stride=(1, 1), bias=False)\n",
              "          (1): BatchNorm2d(384, eps=1e-05, momentum=0.1, affine=True, track_running_stats=True)\n",
              "          (2): ReLU6(inplace=True)\n",
              "        )\n",
              "        (1): Conv2dNormActivation(\n",
              "          (0): Conv2d(384, 384, kernel_size=(3, 3), stride=(1, 1), padding=(1, 1), groups=384, bias=False)\n",
              "          (1): BatchNorm2d(384, eps=1e-05, momentum=0.1, affine=True, track_running_stats=True)\n",
              "          (2): ReLU6(inplace=True)\n",
              "        )\n",
              "        (2): Conv2d(384, 96, kernel_size=(1, 1), stride=(1, 1), bias=False)\n",
              "        (3): BatchNorm2d(96, eps=1e-05, momentum=0.1, affine=True, track_running_stats=True)\n",
              "      )\n",
              "    )\n",
              "    (12): InvertedResidual(\n",
              "      (conv): Sequential(\n",
              "        (0): Conv2dNormActivation(\n",
              "          (0): Conv2d(96, 576, kernel_size=(1, 1), stride=(1, 1), bias=False)\n",
              "          (1): BatchNorm2d(576, eps=1e-05, momentum=0.1, affine=True, track_running_stats=True)\n",
              "          (2): ReLU6(inplace=True)\n",
              "        )\n",
              "        (1): Conv2dNormActivation(\n",
              "          (0): Conv2d(576, 576, kernel_size=(3, 3), stride=(1, 1), padding=(1, 1), groups=576, bias=False)\n",
              "          (1): BatchNorm2d(576, eps=1e-05, momentum=0.1, affine=True, track_running_stats=True)\n",
              "          (2): ReLU6(inplace=True)\n",
              "        )\n",
              "        (2): Conv2d(576, 96, kernel_size=(1, 1), stride=(1, 1), bias=False)\n",
              "        (3): BatchNorm2d(96, eps=1e-05, momentum=0.1, affine=True, track_running_stats=True)\n",
              "      )\n",
              "    )\n",
              "    (13): InvertedResidual(\n",
              "      (conv): Sequential(\n",
              "        (0): Conv2dNormActivation(\n",
              "          (0): Conv2d(96, 576, kernel_size=(1, 1), stride=(1, 1), bias=False)\n",
              "          (1): BatchNorm2d(576, eps=1e-05, momentum=0.1, affine=True, track_running_stats=True)\n",
              "          (2): ReLU6(inplace=True)\n",
              "        )\n",
              "        (1): Conv2dNormActivation(\n",
              "          (0): Conv2d(576, 576, kernel_size=(3, 3), stride=(1, 1), padding=(1, 1), groups=576, bias=False)\n",
              "          (1): BatchNorm2d(576, eps=1e-05, momentum=0.1, affine=True, track_running_stats=True)\n",
              "          (2): ReLU6(inplace=True)\n",
              "        )\n",
              "        (2): Conv2d(576, 96, kernel_size=(1, 1), stride=(1, 1), bias=False)\n",
              "        (3): BatchNorm2d(96, eps=1e-05, momentum=0.1, affine=True, track_running_stats=True)\n",
              "      )\n",
              "    )\n",
              "    (14): InvertedResidual(\n",
              "      (conv): Sequential(\n",
              "        (0): Conv2dNormActivation(\n",
              "          (0): Conv2d(96, 576, kernel_size=(1, 1), stride=(1, 1), bias=False)\n",
              "          (1): BatchNorm2d(576, eps=1e-05, momentum=0.1, affine=True, track_running_stats=True)\n",
              "          (2): ReLU6(inplace=True)\n",
              "        )\n",
              "        (1): Conv2dNormActivation(\n",
              "          (0): Conv2d(576, 576, kernel_size=(3, 3), stride=(2, 2), padding=(1, 1), groups=576, bias=False)\n",
              "          (1): BatchNorm2d(576, eps=1e-05, momentum=0.1, affine=True, track_running_stats=True)\n",
              "          (2): ReLU6(inplace=True)\n",
              "        )\n",
              "        (2): Conv2d(576, 160, kernel_size=(1, 1), stride=(1, 1), bias=False)\n",
              "        (3): BatchNorm2d(160, eps=1e-05, momentum=0.1, affine=True, track_running_stats=True)\n",
              "      )\n",
              "    )\n",
              "    (15): InvertedResidual(\n",
              "      (conv): Sequential(\n",
              "        (0): Conv2dNormActivation(\n",
              "          (0): Conv2d(160, 960, kernel_size=(1, 1), stride=(1, 1), bias=False)\n",
              "          (1): BatchNorm2d(960, eps=1e-05, momentum=0.1, affine=True, track_running_stats=True)\n",
              "          (2): ReLU6(inplace=True)\n",
              "        )\n",
              "        (1): Conv2dNormActivation(\n",
              "          (0): Conv2d(960, 960, kernel_size=(3, 3), stride=(1, 1), padding=(1, 1), groups=960, bias=False)\n",
              "          (1): BatchNorm2d(960, eps=1e-05, momentum=0.1, affine=True, track_running_stats=True)\n",
              "          (2): ReLU6(inplace=True)\n",
              "        )\n",
              "        (2): Conv2d(960, 160, kernel_size=(1, 1), stride=(1, 1), bias=False)\n",
              "        (3): BatchNorm2d(160, eps=1e-05, momentum=0.1, affine=True, track_running_stats=True)\n",
              "      )\n",
              "    )\n",
              "    (16): InvertedResidual(\n",
              "      (conv): Sequential(\n",
              "        (0): Conv2dNormActivation(\n",
              "          (0): Conv2d(160, 960, kernel_size=(1, 1), stride=(1, 1), bias=False)\n",
              "          (1): BatchNorm2d(960, eps=1e-05, momentum=0.1, affine=True, track_running_stats=True)\n",
              "          (2): ReLU6(inplace=True)\n",
              "        )\n",
              "        (1): Conv2dNormActivation(\n",
              "          (0): Conv2d(960, 960, kernel_size=(3, 3), stride=(1, 1), padding=(1, 1), groups=960, bias=False)\n",
              "          (1): BatchNorm2d(960, eps=1e-05, momentum=0.1, affine=True, track_running_stats=True)\n",
              "          (2): ReLU6(inplace=True)\n",
              "        )\n",
              "        (2): Conv2d(960, 160, kernel_size=(1, 1), stride=(1, 1), bias=False)\n",
              "        (3): BatchNorm2d(160, eps=1e-05, momentum=0.1, affine=True, track_running_stats=True)\n",
              "      )\n",
              "    )\n",
              "    (17): InvertedResidual(\n",
              "      (conv): Sequential(\n",
              "        (0): Conv2dNormActivation(\n",
              "          (0): Conv2d(160, 960, kernel_size=(1, 1), stride=(1, 1), bias=False)\n",
              "          (1): BatchNorm2d(960, eps=1e-05, momentum=0.1, affine=True, track_running_stats=True)\n",
              "          (2): ReLU6(inplace=True)\n",
              "        )\n",
              "        (1): Conv2dNormActivation(\n",
              "          (0): Conv2d(960, 960, kernel_size=(3, 3), stride=(1, 1), padding=(1, 1), groups=960, bias=False)\n",
              "          (1): BatchNorm2d(960, eps=1e-05, momentum=0.1, affine=True, track_running_stats=True)\n",
              "          (2): ReLU6(inplace=True)\n",
              "        )\n",
              "        (2): Conv2d(960, 320, kernel_size=(1, 1), stride=(1, 1), bias=False)\n",
              "        (3): BatchNorm2d(320, eps=1e-05, momentum=0.1, affine=True, track_running_stats=True)\n",
              "      )\n",
              "    )\n",
              "    (18): Conv2dNormActivation(\n",
              "      (0): Conv2d(320, 1280, kernel_size=(1, 1), stride=(1, 1), bias=False)\n",
              "      (1): BatchNorm2d(1280, eps=1e-05, momentum=0.1, affine=True, track_running_stats=True)\n",
              "      (2): ReLU6(inplace=True)\n",
              "    )\n",
              "  )\n",
              "  (classifier): Sequential(\n",
              "    (0): Linear(in_features=1280, out_features=1280, bias=True)\n",
              "    (1): Dropout(p=0.3, inplace=False)\n",
              "    (2): Linear(in_features=1280, out_features=1280, bias=True)\n",
              "    (3): Dropout(p=0.4, inplace=False)\n",
              "    (4): Linear(in_features=1280, out_features=1280, bias=True)\n",
              "    (5): Dropout(p=0.7, inplace=False)\n",
              "    (6): Linear(in_features=1280, out_features=3, bias=True)\n",
              "  )\n",
              ")"
            ]
          },
          "metadata": {},
          "execution_count": 99
        }
      ]
    },
    {
      "cell_type": "code",
      "source": [
        "# Loss and optimizer\n",
        "criteration = nn.CrossEntropyLoss()\n",
        "optimizer = torch.optim.SGD(model.parameters(), lr=0.001, momentum=0.9)"
      ],
      "metadata": {
        "id": "iohpK_TURY27"
      },
      "execution_count": 100,
      "outputs": []
    },
    {
      "cell_type": "markdown",
      "source": [
        "# Tạo thư mục chứa weight"
      ],
      "metadata": {
        "id": "8okvgNJSwFEU"
      }
    },
    {
      "cell_type": "code",
      "source": [
        "folder_path = \"output\"\n",
        "\n",
        "if not os.path.exists(folder_path):\n",
        "    os.makedirs(folder_path)\n",
        "    print(f'Thư mục \"{folder_path}\" đã được tạo.')\n",
        "else:\n",
        "    print(f'Thư mục \"{folder_path}\" đã tồn tại.')\n"
      ],
      "metadata": {
        "colab": {
          "base_uri": "https://localhost:8080/"
        },
        "id": "mnJNwO82v5Wl",
        "outputId": "6565d202-2341-4185-eb9a-b329bc756115"
      },
      "execution_count": 101,
      "outputs": [
        {
          "output_type": "stream",
          "name": "stdout",
          "text": [
            "Thư mục \"output\" đã tồn tại.\n"
          ]
        }
      ]
    },
    {
      "cell_type": "markdown",
      "source": [
        "# Training"
      ],
      "metadata": {
        "id": "ncfmIQ5GwLPL"
      }
    },
    {
      "cell_type": "code",
      "source": [
        "def batch_gd(model, criteration, optimizer, train_loader, test_loader, epoch):\n",
        "  train_losses = np.zeros(epoch)\n",
        "  train_accs = np.zeros(epoch)\n",
        "  test_losses = np.zeros(epoch)\n",
        "  test_accs = np.zeros(epoch)\n",
        "  best_acc = 0.0\n",
        "  best_model_params_path = os.path.join(folder_path, 'MobileNetV2_best.pt')\n",
        "  last_model_params_path = os.path.join(folder_path, 'MobileNetV2_last.pt')\n",
        "  for it in range(epoch):\n",
        "    print(f\"Epoch {it+1}/{epoch}\")\n",
        "    print('-' * 10)\n",
        "    model.train()\n",
        "    t0 = datetime.now()\n",
        "    train_loss = []\n",
        "    n_correct = 0\n",
        "    n_total = 0\n",
        "    train_acc = 0\n",
        "    # Get train_acc and train_loss\n",
        "    for inputs, targets in train_loader:\n",
        "      inputs, targets = inputs.to(device), targets.to(device)\n",
        "      optimizer.zero_grad()\n",
        "      #forward pass\n",
        "      outputs = model(inputs)\n",
        "      loss = criteration(outputs, targets)\n",
        "      _, predictions = torch.max(outputs, 1)\n",
        "      # acc\n",
        "      n_correct += (predictions == targets).sum().item()\n",
        "      n_total += targets.shape[0]\n",
        "      # Backward\n",
        "      loss.backward()\n",
        "      optimizer.step()\n",
        "      train_loss.append(loss.item())\n",
        "    train_loss = np.mean(train_loss)\n",
        "    train_acc = n_correct/n_total\n",
        "\n",
        "    # Save loss and test\n",
        "    train_losses[it] = train_loss\n",
        "    train_accs[it] = train_acc\n",
        "\n",
        "    #Get test loss and test acc\n",
        "    model.eval()\n",
        "    test_loss = []\n",
        "    n_correct = 0\n",
        "    n_total = 0\n",
        "    test_acc = 0.0\n",
        "    for inputs, targets in test_loader:\n",
        "      inputs, targets = inputs.to(device), targets.to(device)\n",
        "      outputs = model(inputs)\n",
        "      loss = criteration(outputs, targets)\n",
        "      _, predictions = torch.max(outputs, 1)\n",
        "      # acc\n",
        "      n_correct += (predictions == targets).sum().item()\n",
        "      n_total += targets.shape[0]\n",
        "      test_loss.append(loss.item())\n",
        "    test_loss = np.mean(test_loss)\n",
        "    test_acc = n_correct/n_total\n",
        "    # get best accuracy\n",
        "    if best_acc < test_acc:\n",
        "      best_acc = test_acc\n",
        "      torch.save(model.state_dict(), best_model_params_path)\n",
        "    # Save Loss\n",
        "    test_losses[it] = test_loss\n",
        "    test_accs[it] = test_acc\n",
        "\n",
        "    dt = datetime.now() - t0\n",
        "    print(f'Train Acc: {train_acc:.4f}, Loss: {train_loss:.4f} \\nTest Acc: {test_acc:.4f},Loss:{test_loss:.4f} \\nDuration {dt}\\n')\n",
        "    if it == epoch -1:\n",
        "      print(f\"Best Accuracy: {best_acc:.4f}\")\n",
        "      torch.save(model.state_dict(), last_model_params_path)\n",
        "  return train_losses, test_losses,train_accs,test_accs"
      ],
      "metadata": {
        "id": "-n8u8GcwvShj"
      },
      "execution_count": 102,
      "outputs": []
    },
    {
      "cell_type": "code",
      "source": [
        "epochs = 20\n",
        "train_losses, test_losses, train_acc, test_acc = batch_gd(\n",
        "    model,\n",
        "    criteration,\n",
        "    optimizer,\n",
        "    train_loader,\n",
        "    test_loader,\n",
        "    epochs\n",
        ")"
      ],
      "metadata": {
        "colab": {
          "base_uri": "https://localhost:8080/"
        },
        "id": "tRWRnq-iWPxW",
        "outputId": "40ded997-5f61-47a8-86e4-a677638b76dd"
      },
      "execution_count": 103,
      "outputs": [
        {
          "output_type": "stream",
          "name": "stdout",
          "text": [
            "Epoch 1/20\n",
            "----------\n",
            "Train Acc: 0.3601, Loss: 1.0967 \n",
            "Test Acc: 0.4162,Loss:1.0644 \n",
            "Duration 0:00:14.653768\n",
            "\n",
            "Epoch 2/20\n",
            "----------\n",
            "Train Acc: 0.4641, Loss: 1.0513 \n",
            "Test Acc: 0.5780,Loss:1.0290 \n",
            "Duration 0:00:14.770135\n",
            "\n",
            "Epoch 3/20\n",
            "----------\n",
            "Train Acc: 0.6076, Loss: 0.9534 \n",
            "Test Acc: 0.6185,Loss:0.9253 \n",
            "Duration 0:00:14.695563\n",
            "\n",
            "Epoch 4/20\n",
            "----------\n",
            "Train Acc: 0.6895, Loss: 0.7726 \n",
            "Test Acc: 0.6590,Loss:0.7669 \n",
            "Duration 0:00:14.539915\n",
            "\n",
            "Epoch 5/20\n",
            "----------\n",
            "Train Acc: 0.7392, Loss: 0.6097 \n",
            "Test Acc: 0.6821,Loss:0.6858 \n",
            "Duration 0:00:14.466629\n",
            "\n",
            "Epoch 6/20\n",
            "----------\n",
            "Train Acc: 0.7888, Loss: 0.5074 \n",
            "Test Acc: 0.5896,Loss:0.8191 \n",
            "Duration 0:00:14.373101\n",
            "\n",
            "Epoch 7/20\n",
            "----------\n",
            "Train Acc: 0.7975, Loss: 0.4705 \n",
            "Test Acc: 0.7803,Loss:0.5535 \n",
            "Duration 0:00:14.939120\n",
            "\n",
            "Epoch 8/20\n",
            "----------\n",
            "Train Acc: 0.8219, Loss: 0.4168 \n",
            "Test Acc: 0.7110,Loss:0.5856 \n",
            "Duration 0:00:14.347952\n",
            "\n",
            "Epoch 9/20\n",
            "----------\n",
            "Train Acc: 0.8416, Loss: 0.3859 \n",
            "Test Acc: 0.7977,Loss:0.4601 \n",
            "Duration 0:00:14.496896\n",
            "\n",
            "Epoch 10/20\n",
            "----------\n",
            "Train Acc: 0.8463, Loss: 0.3733 \n",
            "Test Acc: 0.7977,Loss:0.5219 \n",
            "Duration 0:00:21.773010\n",
            "\n",
            "Epoch 11/20\n",
            "----------\n",
            "Train Acc: 0.8503, Loss: 0.3372 \n",
            "Test Acc: 0.8035,Loss:0.4017 \n",
            "Duration 0:00:17.744342\n",
            "\n",
            "Epoch 12/20\n",
            "----------\n",
            "Train Acc: 0.8448, Loss: 0.3388 \n",
            "Test Acc: 0.8382,Loss:0.4054 \n",
            "Duration 0:00:17.495731\n",
            "\n",
            "Epoch 13/20\n",
            "----------\n",
            "Train Acc: 0.8692, Loss: 0.3078 \n",
            "Test Acc: 0.8555,Loss:0.4039 \n",
            "Duration 0:00:14.444189\n",
            "\n",
            "Epoch 14/20\n",
            "----------\n",
            "Train Acc: 0.8747, Loss: 0.3117 \n",
            "Test Acc: 0.6301,Loss:0.9330 \n",
            "Duration 0:00:18.993820\n",
            "\n",
            "Epoch 15/20\n",
            "----------\n",
            "Train Acc: 0.8818, Loss: 0.2794 \n",
            "Test Acc: 0.7919,Loss:0.4379 \n",
            "Duration 0:00:14.528560\n",
            "\n",
            "Epoch 16/20\n",
            "----------\n",
            "Train Acc: 0.8810, Loss: 0.2667 \n",
            "Test Acc: 0.8439,Loss:0.3323 \n",
            "Duration 0:00:15.402453\n",
            "\n",
            "Epoch 17/20\n",
            "----------\n",
            "Train Acc: 0.8928, Loss: 0.2583 \n",
            "Test Acc: 0.6994,Loss:0.7414 \n",
            "Duration 0:00:14.337306\n",
            "\n",
            "Epoch 18/20\n",
            "----------\n",
            "Train Acc: 0.8920, Loss: 0.2634 \n",
            "Test Acc: 0.7861,Loss:0.5200 \n",
            "Duration 0:00:14.600539\n",
            "\n",
            "Epoch 19/20\n",
            "----------\n",
            "Train Acc: 0.9031, Loss: 0.2469 \n",
            "Test Acc: 0.7977,Loss:0.4244 \n",
            "Duration 0:00:14.754585\n",
            "\n",
            "Epoch 20/20\n",
            "----------\n",
            "Train Acc: 0.9039, Loss: 0.2315 \n",
            "Test Acc: 0.6532,Loss:0.8243 \n",
            "Duration 0:00:14.472101\n",
            "\n",
            "Best Accuracy: 0.8555\n"
          ]
        }
      ]
    },
    {
      "cell_type": "code",
      "source": [
        "#plot train loss and test loss\n",
        "plt.plot(train_acc, label=\"Train accuracy\")\n",
        "plt.plot(test_acc, label=\"Test accuracy\")\n",
        "plt.title(\"Training and Test accuracy\")\n",
        "plt.legend()\n",
        "plt.show()"
      ],
      "metadata": {
        "colab": {
          "base_uri": "https://localhost:8080/",
          "height": 452
        },
        "id": "PjW8DB3M9BND",
        "outputId": "9eee09e0-ae67-49ca-bbdc-0271aa640b24"
      },
      "execution_count": 104,
      "outputs": [
        {
          "output_type": "display_data",
          "data": {
            "text/plain": [
              "<Figure size 640x480 with 1 Axes>"
            ],
            "image/png": "[encoded data removed]"
          },
          "metadata": {}
        }
      ]
    },
    {
      "cell_type": "code",
      "source": [
        "#plot train loss and test loss\n",
        "plt.plot(train_losses, label=\"Train loss\")\n",
        "plt.plot(test_losses, label=\"Test loss\")\n",
        "plt.title(\"Training and Test Loss\")\n",
        "plt.legend()\n",
        "plt.show()"
      ],
      "metadata": {
        "colab": {
          "base_uri": "https://localhost:8080/",
          "height": 452
        },
        "id": "shI30S5DWjx8",
        "outputId": "19cf4599-9a5d-4bab-ddad-8be6f0197aa4"
      },
      "execution_count": 105,
      "outputs": [
        {
          "output_type": "display_data",
          "data": {
            "text/plain": [
              "<Figure size 640x480 with 1 Axes>"
            ],
            "image/png": "[encoded data removed]"
          },
          "metadata": {}
        }
      ]
    },
    {
      "cell_type": "code",
      "source": [
        "\n",
        "n_correct = 0\n",
        "n_total = 0\n",
        "\n",
        "for inputs, targets in train_loader:\n",
        "  #move data to GPU\n",
        "  inputs, targets = inputs.to(device), targets.to(device)\n",
        "\n",
        "  # Forward pass\n",
        "  outputs = model(inputs)\n",
        "\n",
        "  # Get prediction\n",
        "  _, predictions = torch.max(outputs,1)\n",
        "\n",
        "  # Update count\n",
        "  n_correct += (predictions == targets).sum().item()\n",
        "  n_total += targets.shape[0]\n",
        "\n",
        "train_acc = n_correct/n_total"
      ],
      "metadata": {
        "id": "hxGadp6pWmTh"
      },
      "execution_count": 106,
      "outputs": []
    },
    {
      "cell_type": "code",
      "source": [
        "train_acc"
      ],
      "metadata": {
        "colab": {
          "base_uri": "https://localhost:8080/"
        },
        "id": "rzqjMsLbZ1RD",
        "outputId": "19b826ea-499b-4b57-c3d2-289a5338d88d"
      },
      "execution_count": 107,
      "outputs": [
        {
          "output_type": "execute_result",
          "data": {
            "text/plain": [
              "0.7714736012608353"
            ]
          },
          "metadata": {},
          "execution_count": 107
        }
      ]
    },
    {
      "cell_type": "code",
      "source": [
        "#plot confusion matrix\n",
        "\n",
        "from sklearn.metrics import confusion_matrix\n",
        "import numpy as np\n",
        "import itertools\n",
        "\n",
        "def plot_confusion_matrix(cm, classes, normalize = False,title = \"confusion matrix\",cmap = plt.cm.Blues):\n",
        "  if normalize:\n",
        "    cm = cm.astype(\"float\")/cm.sum(axis=1)[:,np.newaxis]\n",
        "    print(\"Normalize confusion matrix\")\n",
        "  else:\n",
        "    print(\"Confusion maxtrix, without normalization\")\n",
        "  print(cm)\n",
        "\n",
        "  plt.imshow(cm, interpolation = \"nearest\", cmap = cmap)\n",
        "  plt.title(title)\n",
        "  plt.colorbar()\n",
        "  tick_marks = np.arange(len(classes))\n",
        "  plt.xticks(tick_marks, classes, rotation=45)\n",
        "  plt.yticks(tick_marks,classes)\n",
        "\n",
        "  fmt = '.2f' if normalize else 'd'\n",
        "  thresh = cm.max()/2\n",
        "\n",
        "  for i, j in itertools.product(range(cm.shape[0]),range(cm.shape[1])):\n",
        "    plt.text(j,i,format(cm[i,j],fmt),horizontalalignment=\"center\", color = 'white' if cm[i,j]> thresh else \"black\")\n",
        "\n",
        "  plt.tight_layout()\n",
        "  plt.ylabel(\"True label\")\n",
        "  plt.xlabel(\"Prediction\")\n",
        "  plt.show()\n"
      ],
      "metadata": {
        "id": "rs0bzw8nWo_c"
      },
      "execution_count": 108,
      "outputs": []
    },
    {
      "cell_type": "code",
      "source": [
        "# get all prediction in an array and plot confusion matrix\n",
        "x_test = test_dataset.imgs\n",
        "y_test = test_dataset.targets\n",
        "p_test = np.array([])\n",
        "\n",
        "for inputs, targets in test_loader:\n",
        "  inputs = inputs.to(device)\n",
        "  outputs = model(inputs)\n",
        "  _, predictions = torch.max(outputs, 1)\n",
        "  p_test = np.concatenate((p_test, predictions.cpu().numpy()))\n",
        "cm = confusion_matrix(y_test, p_test)\n",
        "x = list(train_dataset.classes)\n",
        "plot_confusion_matrix(cm, x)"
      ],
      "metadata": {
        "colab": {
          "base_uri": "https://localhost:8080/",
          "height": 575
        },
        "id": "oSb5jCJ4WsAn",
        "outputId": "49c8b79d-b1b5-4dac-ebac-7f1b770987d2"
      },
      "execution_count": 109,
      "outputs": [
        {
          "output_type": "stream",
          "name": "stdout",
          "text": [
            "Confusion maxtrix, without normalization\n",
            "[[34 17  1]\n",
            " [ 3 50  0]\n",
            " [38  1 29]]\n"
          ]
        },
        {
          "output_type": "display_data",
          "data": {
            "text/plain": [
              "<Figure size 640x480 with 2 Axes>"
            ],
            "image/png": "[encoded data removed]"
          },
          "metadata": {}
        }
      ]
    },
    {
      "cell_type": "markdown",
      "source": [
        "# Load best model"
      ],
      "metadata": {
        "id": "hnWjKVekCoFD"
      }
    },
    {
      "cell_type": "code",
      "source": [
        "# device = torch.device(\"cuda:0\" if torch.cuda.is_available() else \"cpu\")\n",
        "# model.to(device)"
      ],
      "metadata": {
        "id": "GtcZpwJtC4ss"
      },
      "execution_count": null,
      "outputs": []
    },
    {
      "cell_type": "code",
      "source": [
        "model.load_state_dict(torch.load('/content/output/MobileNetV2_best.pt'))\n",
        "model.eval()"
      ],
      "metadata": {
        "id": "Jbca4O6Bbpuk"
      },
      "execution_count": null,
      "outputs": []
    },
    {
      "cell_type": "code",
      "source": [
        "n_correct = 0\n",
        "n_total = 0\n",
        "\n",
        "for inputs, targets in test_loader:\n",
        "  #move data to GPU\n",
        "  inputs, targets = inputs.to(device), targets.to(device)\n",
        "\n",
        "  # Forward pass\n",
        "  outputs = model(inputs)\n",
        "\n",
        "  # Get prediction\n",
        "  _, predictions = torch.max(outputs,1)\n",
        "\n",
        "  # Update count\n",
        "  n_correct += (predictions == targets).sum().item()\n",
        "  n_total += targets.shape[0]\n",
        "\n",
        "test_acc_best = n_correct/n_total\n",
        "print(test_acc_best)"
      ],
      "metadata": {
        "colab": {
          "base_uri": "https://localhost:8080/"
        },
        "id": "P3e8N6VeDUaO",
        "outputId": "8e65df32-d90c-4ad0-e81d-04765d4b1981"
      },
      "execution_count": 111,
      "outputs": [
        {
          "output_type": "stream",
          "name": "stdout",
          "text": [
            "0.8554913294797688\n"
          ]
        }
      ]
    }
  ]
}